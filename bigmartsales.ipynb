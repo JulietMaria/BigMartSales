{
  "nbformat": 4,
  "nbformat_minor": 0,
  "metadata": {
    "colab": {
      "name": "bigmartsales",
      "provenance": [],
      "collapsed_sections": [],
      "toc_visible": true
    },
    "kernelspec": {
      "name": "python3",
      "display_name": "Python 3"
    }
  },
  "cells": [
    {
      "cell_type": "code",
      "metadata": {
        "id": "iBOllzMIUI8d",
        "colab_type": "code",
        "colab": {}
      },
      "source": [
        "import pandas as pd\n",
        "import numpy as np\n",
        "import matplotlib.pyplot as plt\n",
        "from sklearn.model_selection import train_test_split \n",
        "from sklearn.linear_model import LinearRegression\n",
        "from sklearn import metrics\n",
        "import seaborn as sns"
      ],
      "execution_count": 0,
      "outputs": []
    },
    {
      "cell_type": "code",
      "metadata": {
        "id": "5gGdQhwwVvG9",
        "colab_type": "code",
        "colab": {}
      },
      "source": [
        "train_data = pd.read_csv('Train.csv')\n",
        "test_data = pd.read_csv('test.csv')\n",
        "\n",
        "train_data.head() # display first 10 rows\n",
        "test_data.apply(lambda x: sum(x.isnull()))  #to count the number of rows with missing values in a pandas DataFrame  //Finding count of distinct elements in DataFrame in each column\n",
        "\n",
        "test_data['Item_Fat_Content'].unique()\n",
        "\n",
        "# combining Item_Fat_Content misspelled\n",
        "train_data['Item_Fat_Content'].replace(['low fat','LF','reg'],['Low Fat','Low Fat','Regular'],inplace = True)\n",
        "test_data['Item_Fat_Content'].replace(['low fat','LF','reg'],['Low Fat','Low Fat','Regular'],inplace = True)\n",
        "\n",
        "# creating new column num_years\n",
        "train_data['num_years'] = train_data['Outlet_Establishment_Year'].apply(lambda x: 2013 - x) \n",
        "test_data['num_years'] = test_data['Outlet_Establishment_Year'].apply(lambda x: 2013 - x)\n",
        "train_data['Item_Type'].unique()  \n",
        "full_data = [train_data, test_data]\n",
        "# filling null values\n",
        "for data in full_data:\n",
        "    data['Item_Weight'].fillna(data['Item_Weight'].mean(),inplace = True)\n",
        "    data['Outlet_Size'].fillna('Medium',inplace = True)\n",
        "col = ['Item_Fat_Content', 'Item_Type', 'Outlet_Size', 'Outlet_Location_Type', 'Outlet_Type']\n",
        "# handling catagorical variables\n",
        "train_datar = pd.get_dummies(train_data, columns = col, drop_first = True)\n",
        "test_datar = pd.get_dummies(test_data, columns = col,drop_first = True)\n",
        "feat_cols = ['Item_Weight', 'Item_Visibility', 'Item_MRP', 'num_years',\n",
        "       'Item_Fat_Content_Regular', 'Item_Type_Breads', 'Item_Type_Breakfast',\n",
        "       'Item_Type_Canned', 'Item_Type_Dairy', 'Item_Type_Frozen Foods',\n",
        "       'Item_Type_Fruits and Vegetables', 'Item_Type_Hard Drinks',\n",
        "       'Item_Type_Health and Hygiene', 'Item_Type_Household', 'Item_Type_Meat',\n",
        "       'Item_Type_Others', 'Item_Type_Seafood', 'Item_Type_Snack Foods',\n",
        "       'Item_Type_Soft Drinks', 'Item_Type_Starchy Foods',\n",
        "       'Outlet_Size_Medium', 'Outlet_Size_Small',\n",
        "       'Outlet_Location_Type_Tier 2', 'Outlet_Location_Type_Tier 3',\n",
        "       'Outlet_Type_Supermarket Type1', 'Outlet_Type_Supermarket Type2',\n",
        "       'Outlet_Type_Supermarket Type3']"
      ],
      "execution_count": 0,
      "outputs": []
    },
    {
      "cell_type": "code",
      "metadata": {
        "id": "fxt5S5yAWV2h",
        "colab_type": "code",
        "colab": {}
      },
      "source": [
        "X = train_datar[feat_cols]\n",
        "y = train_datar['Item_Outlet_Sales']\n",
        "from sklearn.model_selection import train_test_split\n",
        "X_train, X_test, y_train, y_test = train_test_split(X, y, test_size = 0.2,random_state = 0)"
      ],
      "execution_count": 0,
      "outputs": []
    },
    {
      "cell_type": "code",
      "metadata": {
        "id": "GDoXUpNRWoVR",
        "colab_type": "code",
        "outputId": "f8e66500-83eb-4c0f-a5e6-4e133de6b6e5",
        "colab": {
          "base_uri": "https://localhost:8080/",
          "height": 34
        }
      },
      "source": [
        "\n",
        "regressor = LinearRegression()  \n",
        "regressor.fit(X_train, y_train) #training the algorithm"
      ],
      "execution_count": 0,
      "outputs": [
        {
          "output_type": "execute_result",
          "data": {
            "text/plain": [
              "LinearRegression(copy_X=True, fit_intercept=True, n_jobs=None, normalize=False)"
            ]
          },
          "metadata": {
            "tags": []
          },
          "execution_count": 15
        }
      ]
    },
    {
      "cell_type": "code",
      "metadata": {
        "id": "3dJsX1gqYZA3",
        "colab_type": "code",
        "outputId": "9763ee91-20d5-4b85-e988-321860d847bf",
        "colab": {
          "base_uri": "https://localhost:8080/",
          "height": 151
        }
      },
      "source": [
        "print(regressor.intercept_)\n",
        "print(regressor.coef_)"
      ],
      "execution_count": 0,
      "outputs": [
        {
          "output_type": "stream",
          "text": [
            "369.9831632578662\n",
            "[-1.54814382e+00 -3.66015066e+02  1.55481942e+01 -4.41244091e+01\n",
            "  3.35482151e+01 -6.05163082e+01 -9.18259198e-01  1.72049916e+01\n",
            " -1.17688759e+02 -6.78248439e+01 -1.11561361e+01 -1.38970014e+01\n",
            " -4.93453362e+01 -6.57961646e+01 -2.04703488e+01 -4.04276503e+01\n",
            "  1.80359718e+02 -2.61092381e+01 -7.58745459e+01  7.05044404e+01\n",
            " -9.63625632e+02 -8.96679662e+02 -2.48534094e+02 -4.84281851e+02\n",
            "  1.41035296e+03  1.11228807e+03  3.89694547e+03]\n"
          ],
          "name": "stdout"
        }
      ]
    },
    {
      "cell_type": "code",
      "metadata": {
        "id": "nN4Mld26WE-y",
        "colab_type": "code",
        "outputId": "ee7c2a1c-50fd-4ebe-d82a-40822af5b0b2",
        "colab": {
          "base_uri": "https://localhost:8080/",
          "height": 269
        }
      },
      "source": [
        "y_pred = regressor.predict(X_test)\n",
        "#ytest=y_test\n",
        "#ytest.shape()\n",
        "#y_pred.shape()\n",
        "#df = pd.DataFrame({'Actual': y_test.flatten(), 'Predicted': y_pred.flatten()})\n",
        "#df\n",
        "\n",
        "#df= pd.DataFrame({'Actual': y_test.values.flatten(), 'Predicted': y_pred.values.flatten()})\n",
        "\n",
        "#print(y_pred)\n",
        "'''\n",
        "type(y_test)\n",
        "type(y_pred)\n",
        "'''\n",
        "new_pred_series=pd.Series(y_pred)\n",
        "df = pd.DataFrame({'Actual': y_test.values.flatten(), 'Predicted': new_pred_series.values.flatten()})\n",
        "print(df)\n",
        "\n",
        "'''\n",
        "\n",
        "df_row = pd.concat([y_test, new_pred_series])\n",
        "print(df_row)\n",
        "'''\n",
        "\n",
        "\n"
      ],
      "execution_count": 0,
      "outputs": [
        {
          "output_type": "stream",
          "text": [
            "         Actual    Predicted\n",
            "0     1426.1436  2458.963755\n",
            "1     1201.7690  2537.684596\n",
            "2     1836.2764  2245.806396\n",
            "3     2410.8618  2445.007809\n",
            "4     1549.9824  3104.809094\n",
            "...         ...          ...\n",
            "1700  3235.7880  1666.950113\n",
            "1701   555.2772   990.116651\n",
            "1702  2885.5772  4263.614387\n",
            "1703   218.3824 -1058.626578\n",
            "1704  5478.2024  5418.568931\n",
            "\n",
            "[1705 rows x 2 columns]\n"
          ],
          "name": "stdout"
        },
        {
          "output_type": "execute_result",
          "data": {
            "text/plain": [
              "'\\n\\ndf_row = pd.concat([y_test, new_pred_series])\\nprint(df_row)\\n'"
            ]
          },
          "metadata": {
            "tags": []
          },
          "execution_count": 17
        }
      ]
    },
    {
      "cell_type": "code",
      "metadata": {
        "id": "YKfhxUA1ZWbP",
        "colab_type": "code",
        "outputId": "6e554af2-34d7-4450-e348-f11a506ef8fc",
        "colab": {
          "base_uri": "https://localhost:8080/",
          "height": 594
        }
      },
      "source": [
        "df1 = df.head(30)\n",
        "df1.plot(kind='bar',figsize=(16,10))\n",
        "plt.grid(which='major', linestyle='-', linewidth='0.5', color='green')\n",
        "plt.grid(which='minor', linestyle=':', linewidth='0.5', color='black')\n",
        "plt.show()"
      ],
      "execution_count": 0,
      "outputs": [
        {
          "output_type": "display_data",
          "data": {
            "image/png": "[encoded data removed]",
            "text/plain": [
              "<Figure size 1152x720 with 1 Axes>"
            ]
          },
          "metadata": {
            "tags": []
          }
        }
      ]
    },
    {
      "cell_type": "code",
      "metadata": {
        "id": "uNTQm-XeZtg3",
        "colab_type": "code",
        "outputId": "fadb464d-0bd8-4bca-fe18-449784490bf9",
        "colab": {
          "base_uri": "https://localhost:8080/",
          "height": 67
        }
      },
      "source": [
        "print('Mean Absolute Error:', metrics.mean_absolute_error(y_test, y_pred))  \n",
        "print('Mean Squared Error:', metrics.mean_squared_error(y_test, y_pred))  \n",
        "print('Root Mean Squared Error:', np.sqrt(metrics.mean_squared_error(y_test, y_pred)))"
      ],
      "execution_count": 0,
      "outputs": [
        {
          "output_type": "stream",
          "text": [
            "Mean Absolute Error: 852.4329537092061\n",
            "Mean Squared Error: 1281773.9803131619\n",
            "Root Mean Squared Error: 1132.154574390424\n"
          ],
          "name": "stdout"
        }
      ]
    }
  ]
}